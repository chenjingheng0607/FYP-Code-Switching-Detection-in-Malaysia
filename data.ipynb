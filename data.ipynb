{
 "cells": [
  {
   "cell_type": "code",
   "execution_count": null,
   "id": "76e6a98b",
   "metadata": {},
   "outputs": [],
   "source": [
    "import json\n",
    "\n",
    "def preview_jsonl(filename, num_lines=5):\n",
    "    \"\"\"\n",
    "    Reads and prints the first few lines of a JSON Lines (.jsonl) file.\n",
    "    \"\"\"\n",
    "    print(f\"--- Previewing first {num_lines} lines of: {filename} ---\")\n",
    "    \n",
    "    try:\n",
    "        with open(filename, 'r', encoding='utf-8') as f:\n",
    "            for i, line in enumerate(f):\n",
    "                if i >= num_lines:\n",
    "                    break\n",
    "                try:\n",
    "                    # Parse the JSON string from the line into a Python object\n",
    "                    data = json.loads(line)\n",
    "                    \n",
    "                    # Pretty-print the JSON object\n",
    "                    print(json.dumps(data, indent=2, ensure_ascii=False))\n",
    "                    print(\"-\" * 20) # Separator for readability\n",
    "                    \n",
    "                except json.JSONDecodeError:\n",
    "                    print(f\"Warning: Could not decode line {i+1} as JSON. Content: {line.strip()}\")\n",
    "                    print(\"-\" * 20)\n",
    "                    \n",
    "    except FileNotFoundError:\n",
    "        print(f\"Error: The file '{filename}' was not found.\")\n",
    "        print(\"Please make sure it is in the same directory as this script.\")\n",
    "        \n",
    "    print(f\"--- End of preview for: {filename} ---\\n\")\n",
    "\n",
    "\n",
    "# --- Main script execution ---\n",
    "if __name__ == \"__main__\":\n",
    "    # List of files to inspect\n",
    "    files_to_inspect = [\n",
    "        \"dataset/train-test.json\",\n",
    "        \"dataset/train-set.json\",\n",
    "        \"dataset/test-set.json\"\n",
    "    ]\n",
    "    \n",
    "    for file in files_to_inspect:\n",
    "        preview_jsonl(file)"
   ]
  }
 ],
 "metadata": {
  "kernelspec": {
   "display_name": "Python 3",
   "language": "python",
   "name": "python3"
  },
  "language_info": {
   "codemirror_mode": {
    "name": "ipython",
    "version": 3
   },
   "file_extension": ".py",
   "mimetype": "text/x-python",
   "name": "python",
   "nbconvert_exporter": "python",
   "pygments_lexer": "ipython3",
   "version": "3.11.14"
  }
 },
 "nbformat": 4,
 "nbformat_minor": 5
}
